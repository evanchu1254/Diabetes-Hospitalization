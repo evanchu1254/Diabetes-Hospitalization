{
 "cells": [
  {
   "cell_type": "markdown",
   "id": "b0b53f28",
   "metadata": {},
   "source": [
    "# Clinical Efficacy of Medications for Diabetic Emergencies\n"
   ]
  },
  {
   "cell_type": "markdown",
   "id": "405b43db",
   "metadata": {},
   "source": [
    "Dataset link: https://www.kaggle.com/datasets/jimschacko/10-years-diabetes-dataset/data\n",
    "Data dictionary: https://www.hindawi.com/journals/bmri/2014/781670/tab1/"
   ]
  },
  {
   "cell_type": "code",
   "execution_count": 1,
   "id": "65dada7b",
   "metadata": {},
   "outputs": [],
   "source": [
    "# imports \n",
    "import numpy as np\n",
    "import pandas as pd\n",
    "import matplotlib.pyplot as plt\n",
    "import seaborn as sns\n",
    "from sklearn.inspection import permutation_importance\n",
    "from sklearn.neighbors import KNeighborsClassifier\n",
    "from sklearn.ensemble import RandomForestClassifier\n",
    "from sklearn.svm import SVC\n",
    "from sklearn.metrics import ConfusionMatrixDisplay, classification_report, accuracy_score\n",
    "from sklearn.model_selection import train_test_split, GridSearchCV\n",
    "from sklearn.preprocessing import OneHotEncoder, StandardScaler\n",
    "import warnings\n",
    "\n",
    "\n",
    "warnings.filterwarnings(\"ignore\")"
   ]
  },
  {
   "cell_type": "markdown",
   "id": "e4b38aa0",
   "metadata": {},
   "source": [
    "# Data Preparation"
   ]
  },
  {
   "cell_type": "code",
   "execution_count": 2,
   "id": "b8589f1f",
   "metadata": {},
   "outputs": [],
   "source": [
    "# upload df with data \n",
    "df = pd.read_csv(\"diabetes_10years.csv\")"
   ]
  },
  {
   "cell_type": "code",
   "execution_count": 3,
   "id": "d49441ec",
   "metadata": {},
   "outputs": [
    {
     "data": {
      "text/html": [
       "<div>\n",
       "<style scoped>\n",
       "    .dataframe tbody tr th:only-of-type {\n",
       "        vertical-align: middle;\n",
       "    }\n",
       "\n",
       "    .dataframe tbody tr th {\n",
       "        vertical-align: top;\n",
       "    }\n",
       "\n",
       "    .dataframe thead th {\n",
       "        text-align: right;\n",
       "    }\n",
       "</style>\n",
       "<table border=\"1\" class=\"dataframe\">\n",
       "  <thead>\n",
       "    <tr style=\"text-align: right;\">\n",
       "      <th></th>\n",
       "      <th>id</th>\n",
       "      <th>encounter_id</th>\n",
       "      <th>patient_nbr</th>\n",
       "      <th>race</th>\n",
       "      <th>gender</th>\n",
       "      <th>age</th>\n",
       "      <th>weight</th>\n",
       "      <th>admission_type_id</th>\n",
       "      <th>discharge_disposition_id</th>\n",
       "      <th>admission_source_id</th>\n",
       "      <th>...</th>\n",
       "      <th>citoglipton</th>\n",
       "      <th>insulin</th>\n",
       "      <th>glyburide.metformin</th>\n",
       "      <th>glipizide.metformin</th>\n",
       "      <th>glimepiride.pioglitazone</th>\n",
       "      <th>metformin.rosiglitazone</th>\n",
       "      <th>metformin.pioglitazone</th>\n",
       "      <th>change</th>\n",
       "      <th>diabetesMed</th>\n",
       "      <th>readmitted</th>\n",
       "    </tr>\n",
       "  </thead>\n",
       "  <tbody>\n",
       "    <tr>\n",
       "      <th>0</th>\n",
       "      <td>1</td>\n",
       "      <td>2278392</td>\n",
       "      <td>8222157</td>\n",
       "      <td>Caucasian</td>\n",
       "      <td>Female</td>\n",
       "      <td>[0-10)</td>\n",
       "      <td>?</td>\n",
       "      <td>6</td>\n",
       "      <td>25</td>\n",
       "      <td>1</td>\n",
       "      <td>...</td>\n",
       "      <td>No</td>\n",
       "      <td>No</td>\n",
       "      <td>No</td>\n",
       "      <td>No</td>\n",
       "      <td>No</td>\n",
       "      <td>No</td>\n",
       "      <td>No</td>\n",
       "      <td>No</td>\n",
       "      <td>No</td>\n",
       "      <td>NO</td>\n",
       "    </tr>\n",
       "    <tr>\n",
       "      <th>1</th>\n",
       "      <td>2</td>\n",
       "      <td>149190</td>\n",
       "      <td>55629189</td>\n",
       "      <td>Caucasian</td>\n",
       "      <td>Female</td>\n",
       "      <td>[10-20)</td>\n",
       "      <td>?</td>\n",
       "      <td>1</td>\n",
       "      <td>1</td>\n",
       "      <td>7</td>\n",
       "      <td>...</td>\n",
       "      <td>No</td>\n",
       "      <td>Up</td>\n",
       "      <td>No</td>\n",
       "      <td>No</td>\n",
       "      <td>No</td>\n",
       "      <td>No</td>\n",
       "      <td>No</td>\n",
       "      <td>Ch</td>\n",
       "      <td>Yes</td>\n",
       "      <td>&gt;30</td>\n",
       "    </tr>\n",
       "    <tr>\n",
       "      <th>2</th>\n",
       "      <td>3</td>\n",
       "      <td>64410</td>\n",
       "      <td>86047875</td>\n",
       "      <td>AfricanAmerican</td>\n",
       "      <td>Female</td>\n",
       "      <td>[20-30)</td>\n",
       "      <td>?</td>\n",
       "      <td>1</td>\n",
       "      <td>1</td>\n",
       "      <td>7</td>\n",
       "      <td>...</td>\n",
       "      <td>No</td>\n",
       "      <td>No</td>\n",
       "      <td>No</td>\n",
       "      <td>No</td>\n",
       "      <td>No</td>\n",
       "      <td>No</td>\n",
       "      <td>No</td>\n",
       "      <td>No</td>\n",
       "      <td>Yes</td>\n",
       "      <td>NO</td>\n",
       "    </tr>\n",
       "    <tr>\n",
       "      <th>3</th>\n",
       "      <td>4</td>\n",
       "      <td>500364</td>\n",
       "      <td>82442376</td>\n",
       "      <td>Caucasian</td>\n",
       "      <td>Male</td>\n",
       "      <td>[30-40)</td>\n",
       "      <td>?</td>\n",
       "      <td>1</td>\n",
       "      <td>1</td>\n",
       "      <td>7</td>\n",
       "      <td>...</td>\n",
       "      <td>No</td>\n",
       "      <td>Up</td>\n",
       "      <td>No</td>\n",
       "      <td>No</td>\n",
       "      <td>No</td>\n",
       "      <td>No</td>\n",
       "      <td>No</td>\n",
       "      <td>Ch</td>\n",
       "      <td>Yes</td>\n",
       "      <td>NO</td>\n",
       "    </tr>\n",
       "    <tr>\n",
       "      <th>4</th>\n",
       "      <td>5</td>\n",
       "      <td>16680</td>\n",
       "      <td>42519267</td>\n",
       "      <td>Caucasian</td>\n",
       "      <td>Male</td>\n",
       "      <td>[40-50)</td>\n",
       "      <td>?</td>\n",
       "      <td>1</td>\n",
       "      <td>1</td>\n",
       "      <td>7</td>\n",
       "      <td>...</td>\n",
       "      <td>No</td>\n",
       "      <td>Steady</td>\n",
       "      <td>No</td>\n",
       "      <td>No</td>\n",
       "      <td>No</td>\n",
       "      <td>No</td>\n",
       "      <td>No</td>\n",
       "      <td>Ch</td>\n",
       "      <td>Yes</td>\n",
       "      <td>NO</td>\n",
       "    </tr>\n",
       "  </tbody>\n",
       "</table>\n",
       "<p>5 rows × 51 columns</p>\n",
       "</div>"
      ],
      "text/plain": [
       "   id  encounter_id  patient_nbr             race  gender      age weight  \\\n",
       "0   1       2278392      8222157        Caucasian  Female   [0-10)      ?   \n",
       "1   2        149190     55629189        Caucasian  Female  [10-20)      ?   \n",
       "2   3         64410     86047875  AfricanAmerican  Female  [20-30)      ?   \n",
       "3   4        500364     82442376        Caucasian    Male  [30-40)      ?   \n",
       "4   5         16680     42519267        Caucasian    Male  [40-50)      ?   \n",
       "\n",
       "   admission_type_id  discharge_disposition_id  admission_source_id  ...  \\\n",
       "0                  6                        25                    1  ...   \n",
       "1                  1                         1                    7  ...   \n",
       "2                  1                         1                    7  ...   \n",
       "3                  1                         1                    7  ...   \n",
       "4                  1                         1                    7  ...   \n",
       "\n",
       "   citoglipton insulin glyburide.metformin  glipizide.metformin  \\\n",
       "0           No      No                  No                   No   \n",
       "1           No      Up                  No                   No   \n",
       "2           No      No                  No                   No   \n",
       "3           No      Up                  No                   No   \n",
       "4           No  Steady                  No                   No   \n",
       "\n",
       "   glimepiride.pioglitazone  metformin.rosiglitazone  metformin.pioglitazone  \\\n",
       "0                        No                       No                      No   \n",
       "1                        No                       No                      No   \n",
       "2                        No                       No                      No   \n",
       "3                        No                       No                      No   \n",
       "4                        No                       No                      No   \n",
       "\n",
       "   change  diabetesMed readmitted  \n",
       "0      No           No         NO  \n",
       "1      Ch          Yes        >30  \n",
       "2      No          Yes         NO  \n",
       "3      Ch          Yes         NO  \n",
       "4      Ch          Yes         NO  \n",
       "\n",
       "[5 rows x 51 columns]"
      ]
     },
     "execution_count": 3,
     "metadata": {},
     "output_type": "execute_result"
    }
   ],
   "source": [
    "df.head()"
   ]
  },
  {
   "cell_type": "code",
   "execution_count": 4,
   "id": "6f22df95",
   "metadata": {
    "scrolled": true
   },
   "outputs": [
    {
     "data": {
      "text/plain": [
       "['id',\n",
       " 'encounter_id',\n",
       " 'patient_nbr',\n",
       " 'race',\n",
       " 'gender',\n",
       " 'age',\n",
       " 'weight',\n",
       " 'admission_type_id',\n",
       " 'discharge_disposition_id',\n",
       " 'admission_source_id',\n",
       " 'time_in_hospital',\n",
       " 'payer_code',\n",
       " 'medical_specialty',\n",
       " 'num_lab_procedures',\n",
       " 'num_procedures',\n",
       " 'num_medications',\n",
       " 'number_outpatient',\n",
       " 'number_emergency',\n",
       " 'number_inpatient',\n",
       " 'diag_1',\n",
       " 'diag_2',\n",
       " 'diag_3',\n",
       " 'number_diagnoses',\n",
       " 'max_glu_serum',\n",
       " 'A1Cresult',\n",
       " 'metformin',\n",
       " 'repaglinide',\n",
       " 'nateglinide',\n",
       " 'chlorpropamide',\n",
       " 'glimepiride',\n",
       " 'acetohexamide',\n",
       " 'glipizide',\n",
       " 'glyburide',\n",
       " 'tolbutamide',\n",
       " 'pioglitazone',\n",
       " 'rosiglitazone',\n",
       " 'acarbose',\n",
       " 'miglitol',\n",
       " 'troglitazone',\n",
       " 'tolazamide',\n",
       " 'examide',\n",
       " 'citoglipton',\n",
       " 'insulin',\n",
       " 'glyburide.metformin',\n",
       " 'glipizide.metformin',\n",
       " 'glimepiride.pioglitazone',\n",
       " 'metformin.rosiglitazone',\n",
       " 'metformin.pioglitazone',\n",
       " 'change',\n",
       " 'diabetesMed',\n",
       " 'readmitted']"
      ]
     },
     "execution_count": 4,
     "metadata": {},
     "output_type": "execute_result"
    }
   ],
   "source": [
    "df_cols = df.columns.to_list()\n",
    "df_cols"
   ]
  },
  {
   "cell_type": "markdown",
   "id": "f69772c2",
   "metadata": {},
   "source": [
    "## EDA"
   ]
  },
  {
   "cell_type": "code",
   "execution_count": 5,
   "id": "f08c43c2",
   "metadata": {},
   "outputs": [],
   "source": [
    "# using data dict at \n",
    "# https://www.hindawi.com/journals/bmri/2014/781670/tab1/\n",
    "\n",
    "# deletes columns that have too many missing values (over half) or are irrelevant to outcome analysis \n",
    "df = df.drop(columns=['id', 'encounter_id', 'patient_nbr', 'admission_type_id', 'discharge_disposition_id', 'admission_source_id',\n",
    "                 'weight', 'payer_code', 'medical_specialty', 'diag_1', 'diag_2', 'diag_3', 'number_diagnoses'])"
   ]
  },
  {
   "cell_type": "code",
   "execution_count": 6,
   "id": "8c11be54",
   "metadata": {},
   "outputs": [],
   "source": [
    "# deletes rows that weren't prescribed diabetes meds \n",
    "mask = df['diabetesMed'] != 'No'\n",
    "df = df[mask]\n",
    "\n",
    "# deletes entire column now that every entry was prescribed diabetes meds \n",
    "df = df.drop(columns=['diabetesMed'])"
   ]
  },
  {
   "cell_type": "code",
   "execution_count": 7,
   "id": "29827ab9",
   "metadata": {},
   "outputs": [],
   "source": [
    "# deletes rows that don't have race \n",
    "mask = df['race'] != '?'\n",
    "df = df[mask]"
   ]
  },
  {
   "cell_type": "code",
   "execution_count": 8,
   "id": "33d882fd",
   "metadata": {
    "scrolled": false
   },
   "outputs": [
    {
     "data": {
      "text/html": [
       "<div>\n",
       "<style scoped>\n",
       "    .dataframe tbody tr th:only-of-type {\n",
       "        vertical-align: middle;\n",
       "    }\n",
       "\n",
       "    .dataframe tbody tr th {\n",
       "        vertical-align: top;\n",
       "    }\n",
       "\n",
       "    .dataframe thead th {\n",
       "        text-align: right;\n",
       "    }\n",
       "</style>\n",
       "<table border=\"1\" class=\"dataframe\">\n",
       "  <thead>\n",
       "    <tr style=\"text-align: right;\">\n",
       "      <th></th>\n",
       "      <th>race</th>\n",
       "      <th>gender</th>\n",
       "      <th>age</th>\n",
       "      <th>time_in_hospital</th>\n",
       "      <th>num_lab_procedures</th>\n",
       "      <th>num_procedures</th>\n",
       "      <th>num_medications</th>\n",
       "      <th>number_outpatient</th>\n",
       "      <th>number_emergency</th>\n",
       "      <th>number_inpatient</th>\n",
       "      <th>...</th>\n",
       "      <th>examide</th>\n",
       "      <th>citoglipton</th>\n",
       "      <th>insulin</th>\n",
       "      <th>glyburide.metformin</th>\n",
       "      <th>glipizide.metformin</th>\n",
       "      <th>glimepiride.pioglitazone</th>\n",
       "      <th>metformin.rosiglitazone</th>\n",
       "      <th>metformin.pioglitazone</th>\n",
       "      <th>change</th>\n",
       "      <th>readmitted</th>\n",
       "    </tr>\n",
       "  </thead>\n",
       "  <tbody>\n",
       "    <tr>\n",
       "      <th>1</th>\n",
       "      <td>Caucasian</td>\n",
       "      <td>Female</td>\n",
       "      <td>[10-20)</td>\n",
       "      <td>3</td>\n",
       "      <td>59</td>\n",
       "      <td>0</td>\n",
       "      <td>18</td>\n",
       "      <td>0</td>\n",
       "      <td>0</td>\n",
       "      <td>0</td>\n",
       "      <td>...</td>\n",
       "      <td>No</td>\n",
       "      <td>No</td>\n",
       "      <td>Up</td>\n",
       "      <td>No</td>\n",
       "      <td>No</td>\n",
       "      <td>No</td>\n",
       "      <td>No</td>\n",
       "      <td>No</td>\n",
       "      <td>Ch</td>\n",
       "      <td>&gt;30</td>\n",
       "    </tr>\n",
       "    <tr>\n",
       "      <th>2</th>\n",
       "      <td>AfricanAmerican</td>\n",
       "      <td>Female</td>\n",
       "      <td>[20-30)</td>\n",
       "      <td>2</td>\n",
       "      <td>11</td>\n",
       "      <td>5</td>\n",
       "      <td>13</td>\n",
       "      <td>2</td>\n",
       "      <td>0</td>\n",
       "      <td>1</td>\n",
       "      <td>...</td>\n",
       "      <td>No</td>\n",
       "      <td>No</td>\n",
       "      <td>No</td>\n",
       "      <td>No</td>\n",
       "      <td>No</td>\n",
       "      <td>No</td>\n",
       "      <td>No</td>\n",
       "      <td>No</td>\n",
       "      <td>No</td>\n",
       "      <td>NO</td>\n",
       "    </tr>\n",
       "    <tr>\n",
       "      <th>3</th>\n",
       "      <td>Caucasian</td>\n",
       "      <td>Male</td>\n",
       "      <td>[30-40)</td>\n",
       "      <td>2</td>\n",
       "      <td>44</td>\n",
       "      <td>1</td>\n",
       "      <td>16</td>\n",
       "      <td>0</td>\n",
       "      <td>0</td>\n",
       "      <td>0</td>\n",
       "      <td>...</td>\n",
       "      <td>No</td>\n",
       "      <td>No</td>\n",
       "      <td>Up</td>\n",
       "      <td>No</td>\n",
       "      <td>No</td>\n",
       "      <td>No</td>\n",
       "      <td>No</td>\n",
       "      <td>No</td>\n",
       "      <td>Ch</td>\n",
       "      <td>NO</td>\n",
       "    </tr>\n",
       "    <tr>\n",
       "      <th>4</th>\n",
       "      <td>Caucasian</td>\n",
       "      <td>Male</td>\n",
       "      <td>[40-50)</td>\n",
       "      <td>1</td>\n",
       "      <td>51</td>\n",
       "      <td>0</td>\n",
       "      <td>8</td>\n",
       "      <td>0</td>\n",
       "      <td>0</td>\n",
       "      <td>0</td>\n",
       "      <td>...</td>\n",
       "      <td>No</td>\n",
       "      <td>No</td>\n",
       "      <td>Steady</td>\n",
       "      <td>No</td>\n",
       "      <td>No</td>\n",
       "      <td>No</td>\n",
       "      <td>No</td>\n",
       "      <td>No</td>\n",
       "      <td>Ch</td>\n",
       "      <td>NO</td>\n",
       "    </tr>\n",
       "    <tr>\n",
       "      <th>5</th>\n",
       "      <td>Caucasian</td>\n",
       "      <td>Male</td>\n",
       "      <td>[50-60)</td>\n",
       "      <td>3</td>\n",
       "      <td>31</td>\n",
       "      <td>6</td>\n",
       "      <td>16</td>\n",
       "      <td>0</td>\n",
       "      <td>0</td>\n",
       "      <td>0</td>\n",
       "      <td>...</td>\n",
       "      <td>No</td>\n",
       "      <td>No</td>\n",
       "      <td>Steady</td>\n",
       "      <td>No</td>\n",
       "      <td>No</td>\n",
       "      <td>No</td>\n",
       "      <td>No</td>\n",
       "      <td>No</td>\n",
       "      <td>No</td>\n",
       "      <td>&gt;30</td>\n",
       "    </tr>\n",
       "  </tbody>\n",
       "</table>\n",
       "<p>5 rows × 37 columns</p>\n",
       "</div>"
      ],
      "text/plain": [
       "              race  gender      age  time_in_hospital  num_lab_procedures  \\\n",
       "1        Caucasian  Female  [10-20)                 3                  59   \n",
       "2  AfricanAmerican  Female  [20-30)                 2                  11   \n",
       "3        Caucasian    Male  [30-40)                 2                  44   \n",
       "4        Caucasian    Male  [40-50)                 1                  51   \n",
       "5        Caucasian    Male  [50-60)                 3                  31   \n",
       "\n",
       "   num_procedures  num_medications  number_outpatient  number_emergency  \\\n",
       "1               0               18                  0                 0   \n",
       "2               5               13                  2                 0   \n",
       "3               1               16                  0                 0   \n",
       "4               0                8                  0                 0   \n",
       "5               6               16                  0                 0   \n",
       "\n",
       "   number_inpatient  ... examide citoglipton insulin glyburide.metformin  \\\n",
       "1                 0  ...      No          No      Up                  No   \n",
       "2                 1  ...      No          No      No                  No   \n",
       "3                 0  ...      No          No      Up                  No   \n",
       "4                 0  ...      No          No  Steady                  No   \n",
       "5                 0  ...      No          No  Steady                  No   \n",
       "\n",
       "  glipizide.metformin glimepiride.pioglitazone metformin.rosiglitazone  \\\n",
       "1                  No                       No                      No   \n",
       "2                  No                       No                      No   \n",
       "3                  No                       No                      No   \n",
       "4                  No                       No                      No   \n",
       "5                  No                       No                      No   \n",
       "\n",
       "  metformin.pioglitazone change readmitted  \n",
       "1                     No     Ch        >30  \n",
       "2                     No     No         NO  \n",
       "3                     No     Ch         NO  \n",
       "4                     No     Ch         NO  \n",
       "5                     No     No        >30  \n",
       "\n",
       "[5 rows x 37 columns]"
      ]
     },
     "execution_count": 8,
     "metadata": {},
     "output_type": "execute_result"
    }
   ],
   "source": [
    "df.head()"
   ]
  },
  {
   "cell_type": "markdown",
   "id": "19e23125",
   "metadata": {},
   "source": [
    "### Heatmap\n",
    "Pairwise relationship between age and readmittance frequency. "
   ]
  },
  {
   "cell_type": "code",
   "execution_count": 9,
   "id": "df452f40",
   "metadata": {
    "scrolled": true
   },
   "outputs": [
    {
     "data": {
      "text/plain": [
       "Text(95.72222222222221, 0.5, 'age (Years)')"
      ]
     },
     "execution_count": 9,
     "metadata": {},
     "output_type": "execute_result"
    },
    {
     "data": {
      "image/png": "[encoded data removed]",
      "text/plain": [
       "<Figure size 1000x1000 with 2 Axes>"
      ]
     },
     "metadata": {},
     "output_type": "display_data"
    }
   ],
   "source": [
    "# creates heatmap\n",
    "cross_tab = pd.crosstab(df['age'], df['readmitted'])\n",
    "fig, ax = plt.subplots(figsize=(10 , 10))\n",
    "sns.heatmap(cross_tab[::-1], annot=True, ax=ax, cmap='viridis', xticklabels=['NO', '<30', '>30'])\n",
    "ax.set_title('Age of diabetic emergency patient vs. their readmittance to the hospital')\n",
    "ax.set_xlabel('readmitted (Days after Discharge)')\n",
    "ax.set_ylabel('age (Years)')"
   ]
  },
  {
   "cell_type": "markdown",
   "id": "eda34ec3",
   "metadata": {},
   "source": [
    "### Heatmap\n",
    "Pairwise relationship between age and length of hospital stay. "
   ]
  },
  {
   "cell_type": "code",
   "execution_count": 10,
   "id": "18270c70",
   "metadata": {
    "scrolled": true
   },
   "outputs": [
    {
     "data": {
      "text/plain": [
       "Text(95.72222222222221, 0.5, 'age (Years)')"
      ]
     },
     "execution_count": 10,
     "metadata": {},
     "output_type": "execute_result"
    },
    {
     "data": {
      "image/png": "[encoded data removed]",
      "text/plain": [
       "<Figure size 1000x1000 with 2 Axes>"
      ]
     },
     "metadata": {},
     "output_type": "display_data"
    }
   ],
   "source": [
    "# creates heatmap\n",
    "cross_tab = pd.crosstab(df['age'], df['time_in_hospital'])\n",
    "fig, ax = plt.subplots(figsize=(10 , 10))\n",
    "sns.heatmap(cross_tab[::-1], ax=ax, cmap='viridis', xticklabels=np.arange(0, 15))\n",
    "ax.set_title('Age of diabetic emergency patient vs. their length of hospital stay')\n",
    "ax.set_xlabel('Length of Stay (Days)')\n",
    "ax.set_ylabel('age (Years)')"
   ]
  },
  {
   "cell_type": "markdown",
   "id": "d4fbc22c",
   "metadata": {},
   "source": [
    "## Feature Engineering"
   ]
  },
  {
   "cell_type": "code",
   "execution_count": 11,
   "id": "d830f926",
   "metadata": {},
   "outputs": [],
   "source": [
    "# partition data \n",
    "X = df[['race',\n",
    " 'gender',\n",
    " 'age',\n",
    " 'num_lab_procedures',\n",
    " 'num_procedures',\n",
    " 'num_medications',\n",
    " 'number_outpatient',\n",
    " 'number_emergency',\n",
    " 'number_inpatient',\n",
    " 'max_glu_serum',\n",
    " 'A1Cresult',\n",
    " 'metformin',\n",
    " 'repaglinide',\n",
    " 'nateglinide',\n",
    " 'chlorpropamide',\n",
    " 'glimepiride',\n",
    " 'acetohexamide',\n",
    " 'glipizide',\n",
    " 'glyburide',\n",
    " 'tolbutamide',\n",
    " 'pioglitazone',\n",
    " 'rosiglitazone',\n",
    " 'acarbose',\n",
    " 'miglitol',\n",
    " 'troglitazone',\n",
    " 'tolazamide',\n",
    " 'examide',\n",
    " 'citoglipton',\n",
    " 'insulin',\n",
    " 'glyburide.metformin',\n",
    " 'glipizide.metformin',\n",
    " 'glimepiride.pioglitazone',\n",
    " 'metformin.rosiglitazone',\n",
    " 'metformin.pioglitazone',\n",
    " 'change',\n",
    " 'readmitted']]   # get input features \n",
    "y = df['time_in_hospital']   # get target \n",
    "\n",
    "X_train, X_test, y_train, y_test = train_test_split(X,              #the input features\n",
    "                                                    y,              #the label\n",
    "                                                    test_size=0.3,  #set aside 30% of the data as the test set\n",
    "                                                    random_state=7, #reproduce the results\n",
    "                                                    stratify=y      #preserve the distribution of the labels\n",
    "                                                   )"
   ]
  },
  {
   "cell_type": "code",
   "execution_count": 12,
   "id": "877fdce6",
   "metadata": {},
   "outputs": [],
   "source": [
    "X_train = X_train.copy()\n",
    "X_test  = X_test.copy()"
   ]
  },
  {
   "cell_type": "code",
   "execution_count": 13,
   "id": "551bf302",
   "metadata": {},
   "outputs": [],
   "source": [
    "categorical_feats = ['race',\n",
    " 'gender',\n",
    " 'age',\n",
    " 'max_glu_serum',\n",
    " 'A1Cresult',\n",
    " 'metformin',\n",
    " 'repaglinide',\n",
    " 'nateglinide',\n",
    " 'chlorpropamide',\n",
    " 'glimepiride',\n",
    " 'acetohexamide',\n",
    " 'glipizide',\n",
    " 'glyburide',\n",
    " 'tolbutamide',\n",
    " 'pioglitazone',\n",
    " 'rosiglitazone',\n",
    " 'acarbose',\n",
    " 'miglitol',\n",
    " 'troglitazone',\n",
    " 'tolazamide',\n",
    " 'examide',\n",
    " 'citoglipton',\n",
    " 'insulin',\n",
    " 'glyburide.metformin',\n",
    " 'glipizide.metformin',\n",
    " 'glimepiride.pioglitazone',\n",
    " 'metformin.rosiglitazone',\n",
    " 'metformin.pioglitazone',\n",
    " 'change',\n",
    " 'readmitted']\n",
    "\n",
    "numerical_feats = ['num_lab_procedures',\n",
    " 'num_procedures',\n",
    " 'num_medications',\n",
    " 'number_outpatient',\n",
    " 'number_emergency',\n",
    " 'number_inpatient']"
   ]
  },
  {
   "cell_type": "code",
   "execution_count": 14,
   "id": "3258b09d",
   "metadata": {
    "scrolled": true
   },
   "outputs": [],
   "source": [
    "# encode categorical features \n",
    "\n",
    "encoder = OneHotEncoder(sparse=False, handle_unknown='ignore', drop='if_binary') # drop one of the encoded columns if binary values\n",
    "encoder.fit(X_train[categorical_feats])   # fit\n",
    "\n",
    "# view categories  \n",
    "# print(encoder.categories_)\n",
    "\n",
    "# transform training data \n",
    "X_train_encoded = encoder.transform(X_train[categorical_feats])\n",
    "X_train_encoded = pd.DataFrame(X_train_encoded, columns=encoder.get_feature_names_out(categorical_feats), index=X_train.index)\n",
    "\n",
    "# zip encoded X_train and original X_train\n",
    "X_train = pd.concat([X_train[numerical_feats], X_train_encoded], axis=1)\n",
    "\n",
    "# transform test data \n",
    "X_test_encoded = encoder.transform(X_test[categorical_feats])\n",
    "X_test_encoded = pd.DataFrame(X_test_encoded, columns=encoder.get_feature_names_out(categorical_feats), index=X_test.index)\n",
    "\n",
    "# zip encoded X_train and original X_train\n",
    "X_test = pd.concat([X_test[numerical_feats], X_test_encoded], axis=1)"
   ]
  },
  {
   "cell_type": "code",
   "execution_count": 15,
   "id": "aa20fcd4",
   "metadata": {},
   "outputs": [],
   "source": [
    "# normalize the numeric features \n",
    "\n",
    "scaler = StandardScaler()\n",
    "scaler.fit(X_train[numerical_feats])   # fit\n",
    "\n",
    "X_train[numerical_feats] = scaler.transform(X_train[numerical_feats])   # scale training data \n",
    "\n",
    "X_test[numerical_feats] = scaler.transform(X_test[numerical_feats])   # scale test data "
   ]
  },
  {
   "cell_type": "code",
   "execution_count": 16,
   "id": "251e3e37",
   "metadata": {
    "scrolled": false
   },
   "outputs": [
    {
     "data": {
      "text/html": [
       "<div>\n",
       "<style scoped>\n",
       "    .dataframe tbody tr th:only-of-type {\n",
       "        vertical-align: middle;\n",
       "    }\n",
       "\n",
       "    .dataframe tbody tr th {\n",
       "        vertical-align: top;\n",
       "    }\n",
       "\n",
       "    .dataframe thead th {\n",
       "        text-align: right;\n",
       "    }\n",
       "</style>\n",
       "<table border=\"1\" class=\"dataframe\">\n",
       "  <thead>\n",
       "    <tr style=\"text-align: right;\">\n",
       "      <th></th>\n",
       "      <th>num_lab_procedures</th>\n",
       "      <th>num_procedures</th>\n",
       "      <th>num_medications</th>\n",
       "      <th>number_outpatient</th>\n",
       "      <th>number_emergency</th>\n",
       "      <th>number_inpatient</th>\n",
       "      <th>race_AfricanAmerican</th>\n",
       "      <th>race_Asian</th>\n",
       "      <th>race_Caucasian</th>\n",
       "      <th>race_Hispanic</th>\n",
       "      <th>...</th>\n",
       "      <th>glyburide.metformin_Steady</th>\n",
       "      <th>glyburide.metformin_Up</th>\n",
       "      <th>glipizide.metformin_Steady</th>\n",
       "      <th>glimepiride.pioglitazone_Steady</th>\n",
       "      <th>metformin.rosiglitazone_No</th>\n",
       "      <th>metformin.pioglitazone_Steady</th>\n",
       "      <th>change_No</th>\n",
       "      <th>readmitted_&lt;30</th>\n",
       "      <th>readmitted_&gt;30</th>\n",
       "      <th>readmitted_NO</th>\n",
       "    </tr>\n",
       "  </thead>\n",
       "  <tbody>\n",
       "    <tr>\n",
       "      <th>77859</th>\n",
       "      <td>-0.172748</td>\n",
       "      <td>1.545030</td>\n",
       "      <td>-0.346324</td>\n",
       "      <td>-0.295167</td>\n",
       "      <td>-0.214826</td>\n",
       "      <td>0.260472</td>\n",
       "      <td>0.0</td>\n",
       "      <td>0.0</td>\n",
       "      <td>1.0</td>\n",
       "      <td>0.0</td>\n",
       "      <td>...</td>\n",
       "      <td>0.0</td>\n",
       "      <td>0.0</td>\n",
       "      <td>0.0</td>\n",
       "      <td>0.0</td>\n",
       "      <td>1.0</td>\n",
       "      <td>0.0</td>\n",
       "      <td>1.0</td>\n",
       "      <td>0.0</td>\n",
       "      <td>0.0</td>\n",
       "      <td>1.0</td>\n",
       "    </tr>\n",
       "    <tr>\n",
       "      <th>22906</th>\n",
       "      <td>-0.273548</td>\n",
       "      <td>-0.198183</td>\n",
       "      <td>-0.103728</td>\n",
       "      <td>-0.295167</td>\n",
       "      <td>-0.214826</td>\n",
       "      <td>-0.513700</td>\n",
       "      <td>0.0</td>\n",
       "      <td>0.0</td>\n",
       "      <td>0.0</td>\n",
       "      <td>1.0</td>\n",
       "      <td>...</td>\n",
       "      <td>0.0</td>\n",
       "      <td>0.0</td>\n",
       "      <td>0.0</td>\n",
       "      <td>0.0</td>\n",
       "      <td>1.0</td>\n",
       "      <td>0.0</td>\n",
       "      <td>0.0</td>\n",
       "      <td>0.0</td>\n",
       "      <td>0.0</td>\n",
       "      <td>1.0</td>\n",
       "    </tr>\n",
       "    <tr>\n",
       "      <th>45399</th>\n",
       "      <td>-0.676746</td>\n",
       "      <td>-0.779254</td>\n",
       "      <td>-0.346324</td>\n",
       "      <td>-0.295167</td>\n",
       "      <td>-0.214826</td>\n",
       "      <td>-0.513700</td>\n",
       "      <td>0.0</td>\n",
       "      <td>0.0</td>\n",
       "      <td>1.0</td>\n",
       "      <td>0.0</td>\n",
       "      <td>...</td>\n",
       "      <td>0.0</td>\n",
       "      <td>0.0</td>\n",
       "      <td>0.0</td>\n",
       "      <td>0.0</td>\n",
       "      <td>1.0</td>\n",
       "      <td>0.0</td>\n",
       "      <td>0.0</td>\n",
       "      <td>0.0</td>\n",
       "      <td>1.0</td>\n",
       "      <td>0.0</td>\n",
       "    </tr>\n",
       "    <tr>\n",
       "      <th>9982</th>\n",
       "      <td>-0.878346</td>\n",
       "      <td>-0.198183</td>\n",
       "      <td>3.292617</td>\n",
       "      <td>-0.295167</td>\n",
       "      <td>-0.214826</td>\n",
       "      <td>-0.513700</td>\n",
       "      <td>0.0</td>\n",
       "      <td>0.0</td>\n",
       "      <td>1.0</td>\n",
       "      <td>0.0</td>\n",
       "      <td>...</td>\n",
       "      <td>0.0</td>\n",
       "      <td>0.0</td>\n",
       "      <td>0.0</td>\n",
       "      <td>0.0</td>\n",
       "      <td>1.0</td>\n",
       "      <td>0.0</td>\n",
       "      <td>1.0</td>\n",
       "      <td>0.0</td>\n",
       "      <td>1.0</td>\n",
       "      <td>0.0</td>\n",
       "    </tr>\n",
       "    <tr>\n",
       "      <th>29446</th>\n",
       "      <td>0.028851</td>\n",
       "      <td>-0.198183</td>\n",
       "      <td>0.017570</td>\n",
       "      <td>-0.295167</td>\n",
       "      <td>-0.214826</td>\n",
       "      <td>-0.513700</td>\n",
       "      <td>1.0</td>\n",
       "      <td>0.0</td>\n",
       "      <td>0.0</td>\n",
       "      <td>0.0</td>\n",
       "      <td>...</td>\n",
       "      <td>0.0</td>\n",
       "      <td>0.0</td>\n",
       "      <td>0.0</td>\n",
       "      <td>0.0</td>\n",
       "      <td>1.0</td>\n",
       "      <td>0.0</td>\n",
       "      <td>1.0</td>\n",
       "      <td>0.0</td>\n",
       "      <td>0.0</td>\n",
       "      <td>1.0</td>\n",
       "    </tr>\n",
       "  </tbody>\n",
       "</table>\n",
       "<p>5 rows × 100 columns</p>\n",
       "</div>"
      ],
      "text/plain": [
       "       num_lab_procedures  num_procedures  num_medications  number_outpatient  \\\n",
       "77859           -0.172748        1.545030        -0.346324          -0.295167   \n",
       "22906           -0.273548       -0.198183        -0.103728          -0.295167   \n",
       "45399           -0.676746       -0.779254        -0.346324          -0.295167   \n",
       "9982            -0.878346       -0.198183         3.292617          -0.295167   \n",
       "29446            0.028851       -0.198183         0.017570          -0.295167   \n",
       "\n",
       "       number_emergency  number_inpatient  race_AfricanAmerican  race_Asian  \\\n",
       "77859         -0.214826          0.260472                   0.0         0.0   \n",
       "22906         -0.214826         -0.513700                   0.0         0.0   \n",
       "45399         -0.214826         -0.513700                   0.0         0.0   \n",
       "9982          -0.214826         -0.513700                   0.0         0.0   \n",
       "29446         -0.214826         -0.513700                   1.0         0.0   \n",
       "\n",
       "       race_Caucasian  race_Hispanic  ...  glyburide.metformin_Steady  \\\n",
       "77859             1.0            0.0  ...                         0.0   \n",
       "22906             0.0            1.0  ...                         0.0   \n",
       "45399             1.0            0.0  ...                         0.0   \n",
       "9982              1.0            0.0  ...                         0.0   \n",
       "29446             0.0            0.0  ...                         0.0   \n",
       "\n",
       "       glyburide.metformin_Up  glipizide.metformin_Steady  \\\n",
       "77859                     0.0                         0.0   \n",
       "22906                     0.0                         0.0   \n",
       "45399                     0.0                         0.0   \n",
       "9982                      0.0                         0.0   \n",
       "29446                     0.0                         0.0   \n",
       "\n",
       "       glimepiride.pioglitazone_Steady  metformin.rosiglitazone_No  \\\n",
       "77859                              0.0                         1.0   \n",
       "22906                              0.0                         1.0   \n",
       "45399                              0.0                         1.0   \n",
       "9982                               0.0                         1.0   \n",
       "29446                              0.0                         1.0   \n",
       "\n",
       "       metformin.pioglitazone_Steady  change_No  readmitted_<30  \\\n",
       "77859                            0.0        1.0             0.0   \n",
       "22906                            0.0        0.0             0.0   \n",
       "45399                            0.0        0.0             0.0   \n",
       "9982                             0.0        1.0             0.0   \n",
       "29446                            0.0        1.0             0.0   \n",
       "\n",
       "       readmitted_>30  readmitted_NO  \n",
       "77859             0.0            1.0  \n",
       "22906             0.0            1.0  \n",
       "45399             1.0            0.0  \n",
       "9982              1.0            0.0  \n",
       "29446             0.0            1.0  \n",
       "\n",
       "[5 rows x 100 columns]"
      ]
     },
     "execution_count": 16,
     "metadata": {},
     "output_type": "execute_result"
    }
   ],
   "source": [
    "# view prepared data \n",
    "X_train.head()"
   ]
  },
  {
   "cell_type": "markdown",
   "id": "33503928",
   "metadata": {},
   "source": [
    "# K-NN Neighbors Classifier"
   ]
  },
  {
   "cell_type": "code",
   "execution_count": 17,
   "id": "8df85b7d",
   "metadata": {},
   "outputs": [
    {
     "name": "stdout",
     "output_type": "stream",
     "text": [
      "(53544, 100)\n",
      "(22948, 100)\n",
      "(53544,)\n",
      "(22948,)\n"
     ]
    }
   ],
   "source": [
    "print(X_train.shape)\n",
    "print(X_test.shape)\n",
    "print(y_train.shape)\n",
    "print(y_test.shape)"
   ]
  },
  {
   "cell_type": "code",
   "execution_count": 18,
   "id": "466baa2d",
   "metadata": {},
   "outputs": [
    {
     "data": {
      "text/html": [
       "<style>#sk-container-id-1 {color: black;background-color: white;}#sk-container-id-1 pre{padding: 0;}#sk-container-id-1 div.sk-toggleable {background-color: white;}#sk-container-id-1 label.sk-toggleable__label {cursor: pointer;display: block;width: 100%;margin-bottom: 0;padding: 0.3em;box-sizing: border-box;text-align: center;}#sk-container-id-1 label.sk-toggleable__label-arrow:before {content: \"▸\";float: left;margin-right: 0.25em;color: #696969;}#sk-container-id-1 label.sk-toggleable__label-arrow:hover:before {color: black;}#sk-container-id-1 div.sk-estimator:hover label.sk-toggleable__label-arrow:before {color: black;}#sk-container-id-1 div.sk-toggleable__content {max-height: 0;max-width: 0;overflow: hidden;text-align: left;background-color: #f0f8ff;}#sk-container-id-1 div.sk-toggleable__content pre {margin: 0.2em;color: black;border-radius: 0.25em;background-color: #f0f8ff;}#sk-container-id-1 input.sk-toggleable__control:checked~div.sk-toggleable__content {max-height: 200px;max-width: 100%;overflow: auto;}#sk-container-id-1 input.sk-toggleable__control:checked~label.sk-toggleable__label-arrow:before {content: \"▾\";}#sk-container-id-1 div.sk-estimator input.sk-toggleable__control:checked~label.sk-toggleable__label {background-color: #d4ebff;}#sk-container-id-1 div.sk-label input.sk-toggleable__control:checked~label.sk-toggleable__label {background-color: #d4ebff;}#sk-container-id-1 input.sk-hidden--visually {border: 0;clip: rect(1px 1px 1px 1px);clip: rect(1px, 1px, 1px, 1px);height: 1px;margin: -1px;overflow: hidden;padding: 0;position: absolute;width: 1px;}#sk-container-id-1 div.sk-estimator {font-family: monospace;background-color: #f0f8ff;border: 1px dotted black;border-radius: 0.25em;box-sizing: border-box;margin-bottom: 0.5em;}#sk-container-id-1 div.sk-estimator:hover {background-color: #d4ebff;}#sk-container-id-1 div.sk-parallel-item::after {content: \"\";width: 100%;border-bottom: 1px solid gray;flex-grow: 1;}#sk-container-id-1 div.sk-label:hover label.sk-toggleable__label {background-color: #d4ebff;}#sk-container-id-1 div.sk-serial::before {content: \"\";position: absolute;border-left: 1px solid gray;box-sizing: border-box;top: 0;bottom: 0;left: 50%;z-index: 0;}#sk-container-id-1 div.sk-serial {display: flex;flex-direction: column;align-items: center;background-color: white;padding-right: 0.2em;padding-left: 0.2em;position: relative;}#sk-container-id-1 div.sk-item {position: relative;z-index: 1;}#sk-container-id-1 div.sk-parallel {display: flex;align-items: stretch;justify-content: center;background-color: white;position: relative;}#sk-container-id-1 div.sk-item::before, #sk-container-id-1 div.sk-parallel-item::before {content: \"\";position: absolute;border-left: 1px solid gray;box-sizing: border-box;top: 0;bottom: 0;left: 50%;z-index: -1;}#sk-container-id-1 div.sk-parallel-item {display: flex;flex-direction: column;z-index: 1;position: relative;background-color: white;}#sk-container-id-1 div.sk-parallel-item:first-child::after {align-self: flex-end;width: 50%;}#sk-container-id-1 div.sk-parallel-item:last-child::after {align-self: flex-start;width: 50%;}#sk-container-id-1 div.sk-parallel-item:only-child::after {width: 0;}#sk-container-id-1 div.sk-dashed-wrapped {border: 1px dashed gray;margin: 0 0.4em 0.5em 0.4em;box-sizing: border-box;padding-bottom: 0.4em;background-color: white;}#sk-container-id-1 div.sk-label label {font-family: monospace;font-weight: bold;display: inline-block;line-height: 1.2em;}#sk-container-id-1 div.sk-label-container {text-align: center;}#sk-container-id-1 div.sk-container {/* jupyter's `normalize.less` sets `[hidden] { display: none; }` but bootstrap.min.css set `[hidden] { display: none !important; }` so we also need the `!important` here to be able to override the default hidden behavior on the sphinx rendered scikit-learn.org. See: https://github.com/scikit-learn/scikit-learn/issues/21755 */display: inline-block !important;position: relative;}#sk-container-id-1 div.sk-text-repr-fallback {display: none;}</style><div id=\"sk-container-id-1\" class=\"sk-top-container\"><div class=\"sk-text-repr-fallback\"><pre>KNeighborsClassifier()</pre><b>In a Jupyter environment, please rerun this cell to show the HTML representation or trust the notebook. <br />On GitHub, the HTML representation is unable to render, please try loading this page with nbviewer.org.</b></div><div class=\"sk-container\" hidden><div class=\"sk-item\"><div class=\"sk-estimator sk-toggleable\"><input class=\"sk-toggleable__control sk-hidden--visually\" id=\"sk-estimator-id-1\" type=\"checkbox\" checked><label for=\"sk-estimator-id-1\" class=\"sk-toggleable__label sk-toggleable__label-arrow\">KNeighborsClassifier</label><div class=\"sk-toggleable__content\"><pre>KNeighborsClassifier()</pre></div></div></div></div></div>"
      ],
      "text/plain": [
       "KNeighborsClassifier()"
      ]
     },
     "execution_count": 18,
     "metadata": {},
     "output_type": "execute_result"
    }
   ],
   "source": [
    "knn = KNeighborsClassifier(n_neighbors=5)\n",
    "knn.fit(X_train, y_train)"
   ]
  },
  {
   "cell_type": "code",
   "execution_count": 19,
   "id": "c5f39120",
   "metadata": {},
   "outputs": [
    {
     "name": "stdout",
     "output_type": "stream",
     "text": [
      "The accuracy of the model is: 0.179187728778107\n"
     ]
    }
   ],
   "source": [
    "# view metrics \n",
    "\n",
    "# accuracy\n",
    "print('The accuracy of the model is: {}'.format(knn.score(X_test, y_test)))"
   ]
  },
  {
   "cell_type": "markdown",
   "id": "e74029b6",
   "metadata": {},
   "source": [
    "## Hyperparameter Tuning\n",
    "### Experimentation with different numbers of neighbors with cross-validation"
   ]
  },
  {
   "cell_type": "code",
   "execution_count": 20,
   "id": "833aba62",
   "metadata": {},
   "outputs": [
    {
     "name": "stdout",
     "output_type": "stream",
     "text": [
      "Fitting 5 folds for each of 11 candidates, totalling 55 fits\n",
      "{'n_neighbors': 23}\n",
      "0.1961378286927864\n"
     ]
    }
   ],
   "source": [
    "params = {'n_neighbors': np.arange(3, 25, 2)}\n",
    "\n",
    "knn_cv_hyper = KNeighborsClassifier()\n",
    "\n",
    "# initialize GridSearch with Cross Validation\n",
    "knn_grid = GridSearchCV(knn_cv_hyper, params, cv=5, scoring='accuracy', verbose=1)\n",
    "knn_grid.fit(X_train, y_train)   # fit\n",
    "\n",
    "print(knn_grid.best_params_)\n",
    "print(knn_grid.best_score_)"
   ]
  },
  {
   "cell_type": "code",
   "execution_count": 21,
   "id": "6efd63e6",
   "metadata": {},
   "outputs": [
    {
     "data": {
      "image/png": "[encoded data removed]",
      "text/plain": [
       "<Figure size 640x480 with 1 Axes>"
      ]
     },
     "metadata": {},
     "output_type": "display_data"
    }
   ],
   "source": [
    "# plot results\n",
    "results = pd.DataFrame(knn_grid.cv_results_)\n",
    "\n",
    "plt.figure()\n",
    "plt.plot(results['param_n_neighbors'], results['mean_test_score'], marker='o')\n",
    "plt.xlabel('Number of Neighbors (k)')\n",
    "plt.ylabel('Accuracy Score')\n",
    "plt.title('KNN Performance for Different n_neighbors')\n",
    "plt.grid(True)\n",
    "plt.show()"
   ]
  },
  {
   "cell_type": "code",
   "execution_count": 22,
   "id": "f69a5db4",
   "metadata": {
    "scrolled": true
   },
   "outputs": [
    {
     "name": "stdout",
     "output_type": "stream",
     "text": [
      "              precision    recall  f1-score   support\n",
      "\n",
      "           1       0.25      0.33      0.29      2889\n",
      "           2       0.21      0.35      0.26      3813\n",
      "           3       0.20      0.31      0.24      4031\n",
      "           4       0.15      0.16      0.15      3196\n",
      "           5       0.14      0.08      0.11      2313\n",
      "           6       0.11      0.06      0.07      1732\n",
      "           7       0.10      0.04      0.06      1357\n",
      "           8       0.12      0.03      0.05      1031\n",
      "           9       0.09      0.02      0.03       711\n",
      "          10       0.05      0.01      0.01       544\n",
      "          11       0.11      0.01      0.02       436\n",
      "          12       0.10      0.01      0.01       351\n",
      "          13       0.30      0.01      0.02       295\n",
      "          14       0.08      0.01      0.01       249\n",
      "\n",
      "    accuracy                           0.19     22948\n",
      "   macro avg       0.15      0.10      0.10     22948\n",
      "weighted avg       0.17      0.19      0.17     22948\n",
      "\n"
     ]
    }
   ],
   "source": [
    "# get classification report for recommended value of k \n",
    "knn_23 = KNeighborsClassifier(n_neighbors=23) # init model\n",
    "knn_23.fit(X_train, y_train)\n",
    "y_pred = knn_23.predict(X_test)\n",
    "\n",
    "print(classification_report(y_test, y_pred))"
   ]
  },
  {
   "cell_type": "markdown",
   "id": "22e5eae2",
   "metadata": {},
   "source": [
    "# Random Forest Classifier"
   ]
  },
  {
   "cell_type": "code",
   "execution_count": 23,
   "id": "fb942704",
   "metadata": {},
   "outputs": [
    {
     "name": "stdout",
     "output_type": "stream",
     "text": [
      "Random Forest Classifier Accuracy: 0.1914763813839986\n"
     ]
    }
   ],
   "source": [
    "# Initialize the Random Forest Classifier\n",
    "rf_classifier = RandomForestClassifier(n_estimators=100, random_state=7)\n",
    "\n",
    "# Fit the model on the training data\n",
    "rf_classifier.fit(X_train, y_train)\n",
    "\n",
    "# Make predictions on the test set\n",
    "y_pred = rf_classifier.predict(X_test)\n",
    "\n",
    "# Evaluate the accuracy of the model\n",
    "accuracy = accuracy_score(y_test, y_pred)\n",
    "print(\"Random Forest Classifier Accuracy:\", accuracy)"
   ]
  },
  {
   "cell_type": "markdown",
   "id": "8ebdd8ff",
   "metadata": {},
   "source": [
    "## Hyperparameter Tuning\n",
    "### Experimentation with different numbers of estimators & different max depths with cross-validation"
   ]
  },
  {
   "cell_type": "code",
   "execution_count": 24,
   "id": "cd5d8f86",
   "metadata": {},
   "outputs": [
    {
     "name": "stdout",
     "output_type": "stream",
     "text": [
      "Fitting 5 folds for each of 12 candidates, totalling 60 fits\n",
      "{'max_depth': 10, 'n_estimators': 200}\n",
      "0.21554237508011115\n"
     ]
    }
   ],
   "source": [
    "# setup parameter grid \n",
    "params = {'n_estimators': np.arange(50, 250, 50),\n",
    "          'max_depth': [None, 10, 25]}\n",
    "\n",
    "# init rf classifier\n",
    "rf_cv_hyper = RandomForestClassifier()\n",
    "\n",
    "# initialize GridSearch with Cross Validation\n",
    "rf_grid = GridSearchCV(rf_cv_hyper, params, cv=5, scoring='accuracy', verbose=1)\n",
    "rf_grid.fit(X_train, y_train)   # fit\n",
    "\n",
    "print(rf_grid.best_params_)\n",
    "print(rf_grid.best_score_)"
   ]
  },
  {
   "cell_type": "code",
   "execution_count": 25,
   "id": "be17f7b7",
   "metadata": {
    "scrolled": true
   },
   "outputs": [
    {
     "name": "stdout",
     "output_type": "stream",
     "text": [
      "              precision    recall  f1-score   support\n",
      "\n",
      "           1       0.38      0.21      0.27      2889\n",
      "           2       0.27      0.44      0.33      3813\n",
      "           3       0.20      0.55      0.29      4031\n",
      "           4       0.13      0.11      0.12      3196\n",
      "           5       0.13      0.03      0.05      2313\n",
      "           6       0.06      0.01      0.01      1732\n",
      "           7       0.08      0.01      0.02      1357\n",
      "           8       0.13      0.01      0.02      1031\n",
      "           9       0.00      0.00      0.00       711\n",
      "          10       0.00      0.00      0.00       544\n",
      "          11       0.00      0.00      0.00       436\n",
      "          12       0.00      0.00      0.00       351\n",
      "          13       0.00      0.00      0.00       295\n",
      "          14       0.00      0.00      0.00       249\n",
      "\n",
      "    accuracy                           0.22     22948\n",
      "   macro avg       0.10      0.10      0.08     22948\n",
      "weighted avg       0.17      0.22      0.16     22948\n",
      "\n"
     ]
    }
   ],
   "source": [
    "# get classification report for recommended parameters\n",
    "\n",
    "rf_tuned = RandomForestClassifier(n_estimators=200, max_depth=10) # init model\n",
    "rf_tuned.fit(X_train, y_train)\n",
    "y_pred = rf_tuned.predict(X_test)\n",
    "\n",
    "print(classification_report(y_test, y_pred))"
   ]
  },
  {
   "cell_type": "markdown",
   "id": "2b1dead7",
   "metadata": {},
   "source": [
    "# Support Vector Machine"
   ]
  },
  {
   "cell_type": "code",
   "execution_count": 26,
   "id": "b64cab40",
   "metadata": {},
   "outputs": [
    {
     "name": "stdout",
     "output_type": "stream",
     "text": [
      "Support Vector Machine Classifier Accuracy: 0.21718668293533205\n"
     ]
    }
   ],
   "source": [
    "# instantiate SVM model\n",
    "svm = SVC()\n",
    "svm.fit(X_train, y_train) # fit the training data\n",
    "y_pred = svm.predict(X_test) # make predictions on the test set\n",
    "\n",
    "accuracy_svm = accuracy_score(y_test, y_pred) # evaluate accuracy\n",
    "print(\"Support Vector Machine Classifier Accuracy:\", accuracy_svm)"
   ]
  },
  {
   "cell_type": "markdown",
   "id": "17ef49d0",
   "metadata": {},
   "source": [
    "## Hyperparameter Tuning\n",
    "### Experimentation with different values of c and gamma with cross-validation"
   ]
  },
  {
   "cell_type": "code",
   "execution_count": null,
   "id": "b18ee88e",
   "metadata": {},
   "outputs": [],
   "source": [
    "# using GridSearchCV to tune hyperparameters C and gamma \n",
    "params = {'C': np.arange(1, 10),\n",
    "         'gamma': np.arange(1, 5)}\n",
    "\n",
    "svm_hyper = SVC()\n",
    "\n",
    "# initialize GridSearch with CV\n",
    "svm_grid = GridSearchCV(estimator = svm_hyper, param_grid = params, cv=5, return_train_score = True)\n",
    "svm_grid.fit(X_train, y_train)\n",
    "\n",
    "print('The best model/parameters are: {}'.format(svm_grid.best_params_)) #print the best parameters\n",
    "print('The best score that was obtained was: {}'.format(svm_grid.best_score_)) #print the best score"
   ]
  },
  {
   "cell_type": "code",
   "execution_count": null,
   "id": "3ca4cebd",
   "metadata": {},
   "outputs": [],
   "source": [
    "# display the cv results for the train and test set\n",
    "\n",
    "cv_results = pd.DataFrame(svm_grid.cv_results_)\n",
    "cv_results = cv_results.sort_values('mean_test_score', ascending=False)\n",
    "cv_results[['mean_train_score', 'std_train_score', 'mean_test_score', 'std_test_score']].head()"
   ]
  },
  {
   "cell_type": "markdown",
   "id": "d7f39070",
   "metadata": {},
   "source": [
    "# Results and Evaluations\n",
    "Pre-processing Observations:\n",
    "Heatmaps shown to the right show that there are indeed pairwise relationships within the patients’ characteristics. \n",
    "\n",
    "1. K-Nearest Neighbors (KNN):\n",
    "Accuracy: 0.1961\n",
    "KNN achieves low accuracy, with the accuracy score increasing somewhat with different values of k tried, but never landing on one being better than the rest or above 0.2. \n",
    "\n",
    "2. Random Forest Classifier:\n",
    "Accuracy: 0.2155\n",
    "Random Forest achieves a higher accuracy score than KNN, but not by much.\n",
    "\n",
    "3. Support Vector Machine (SVM):\n",
    "Accuracy: 0.2172\n",
    "The SVM model achieved a higher baseline accuracy score without tuning, but GridSearchCV validation was unable to run to completion with the time allotted. \n",
    "\n",
    "Among the Models:\n",
    "Out of all the models, the SVM model performed the best. However, there are qualifiers to that statement. \n",
    "\n",
    "K-Nearest Neighbors (KNN) showcased low accuracy, which indicates that it wasn’t able to perform pattern recognition well. When tuning for the best number of neighbors to use,  the model never rose above 0.2 accuracy and also didn’t indicate that there was a standout value. \n",
    "Random Forest fared slightly better, with hyperparameter tuning elucidating a max depth of 10 and 200 estimators as the most accurate. Before the tuning, the model was over 2% less accurate.  The multiple decision trees added robust complexity that boosted the performance over the nearest-neighbors method. \n",
    "Support Vector Machine (SVM), while exhibiting better accuracy before tuning than the classifiers before, was unable to complete hyperparameter tuning with cross validation. The parameters tested, C and gamma, would have changed the regularization strength and kernel coefficient. It can be assumed that the tuning would’ve elucidated a score higher than the baseline, which is already better than those of the other models. \n",
    "\n",
    "As such, every model that was tested was weaker than would be preferred for usage or conclusions. **SVM stands out as the most potent model in this context, but its focus on higher-dimensionality greatly increased runtime.**"
   ]
  }
 ],
 "metadata": {
  "kernelspec": {
   "display_name": "Python 3 (ipykernel)",
   "language": "python",
   "name": "python3"
  },
  "language_info": {
   "codemirror_mode": {
    "name": "ipython",
    "version": 3
   },
   "file_extension": ".py",
   "mimetype": "text/x-python",
   "name": "python",
   "nbconvert_exporter": "python",
   "pygments_lexer": "ipython3",
   "version": "3.9.12"
  }
 },
 "nbformat": 4,
 "nbformat_minor": 5
}
